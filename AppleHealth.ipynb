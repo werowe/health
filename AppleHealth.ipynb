{
 "cells": [
  {
   "cell_type": "code",
   "execution_count": 242,
   "metadata": {},
   "outputs": [],
   "source": [
    "import simplejson as json \n",
    "import xml.etree.ElementTree as ET\n",
    "import pandas as pd\n",
    "from IPython.display import display, HTML\n",
    "\n",
    "tree = ET.parse('/home/ubuntu/Documents/health/apple_health_export/export.xml')\n",
    "root = tree.getroot() \n",
    "\n",
    "data = []\n",
    " "
   ]
  },
  {
   "cell_type": "code",
   "execution_count": 243,
   "metadata": {},
   "outputs": [],
   "source": [
    "for elem in root:\n",
    "    if elem.tag == \"Record\":\n",
    "        d = elem.attrib\n",
    "        r = {\n",
    "            'type' : d['type'],\n",
    "            'value' : d['value'],\n",
    "            'date' : d['startDate']\n",
    "            }\n",
    "        data.append(r)\n",
    "        "
   ]
  },
  {
   "cell_type": "code",
   "execution_count": null,
   "metadata": {},
   "outputs": [],
   "source": [
    "for t in types:\n",
    "    print(t + '\\n')\n",
    " \n"
   ]
  },
  {
   "cell_type": "code",
   "execution_count": 244,
   "metadata": {},
   "outputs": [],
   "source": [
    "df = pd.DataFrame(data=data)\n",
    "df['value'] = pd.to_numeric(df['value'])"
   ]
  },
  {
   "cell_type": "code",
   "execution_count": 246,
   "metadata": {},
   "outputs": [],
   "source": [
    "cols = [\"HKQuantityTypeIdentifierBloodPressureSystolic\", \n",
    "        \"HKQuantityTypeIdentifierBloodGlucose\", \"HKQuantityTypeIdentifierBloodPressureDiastolic\"]\n",
    "data = {}\n",
    "for i in cols:\n",
    "    d = df.loc[df['type'] == i]\n",
    "    data[i] = d.sort_values(by='date', axis=0)\n",
    "\n"
   ]
  },
  {
   "cell_type": "code",
   "execution_count": 247,
   "metadata": {},
   "outputs": [
    {
     "data": {
      "text/html": [
       "<table border=\"1\" class=\"dataframe\">\n",
       "  <thead>\n",
       "    <tr style=\"text-align: right;\">\n",
       "      <th></th>\n",
       "      <th>date</th>\n",
       "      <th>Systolic</th>\n",
       "      <th>Diastolic</th>\n",
       "    </tr>\n",
       "  </thead>\n",
       "  <tbody>\n",
       "    <tr>\n",
       "      <th>0</th>\n",
       "      <td>2019-11-13 16:24:00 +0200</td>\n",
       "      <td>126.0</td>\n",
       "      <td>74.0</td>\n",
       "    </tr>\n",
       "    <tr>\n",
       "      <th>1</th>\n",
       "      <td>2019-11-15 16:24:00 +0200</td>\n",
       "      <td>104.0</td>\n",
       "      <td>78.0</td>\n",
       "    </tr>\n",
       "    <tr>\n",
       "      <th>2</th>\n",
       "      <td>2019-11-23 02:11:00 +0200</td>\n",
       "      <td>110.0</td>\n",
       "      <td>67.0</td>\n",
       "    </tr>\n",
       "    <tr>\n",
       "      <th>3</th>\n",
       "      <td>2019-11-26 17:02:00 +0200</td>\n",
       "      <td>123.0</td>\n",
       "      <td>92.0</td>\n",
       "    </tr>\n",
       "    <tr>\n",
       "      <th>4</th>\n",
       "      <td>2019-11-27 04:56:00 +0200</td>\n",
       "      <td>121.0</td>\n",
       "      <td>70.0</td>\n",
       "    </tr>\n",
       "    <tr>\n",
       "      <th>5</th>\n",
       "      <td>2019-12-19 09:06:00 +0200</td>\n",
       "      <td>135.0</td>\n",
       "      <td>90.0</td>\n",
       "    </tr>\n",
       "    <tr>\n",
       "      <th>6</th>\n",
       "      <td>2019-12-19 21:18:00 +0200</td>\n",
       "      <td>129.0</td>\n",
       "      <td>67.0</td>\n",
       "    </tr>\n",
       "    <tr>\n",
       "      <th>7</th>\n",
       "      <td>2019-12-20 16:17:00 +0200</td>\n",
       "      <td>123.0</td>\n",
       "      <td>68.0</td>\n",
       "    </tr>\n",
       "    <tr>\n",
       "      <th>8</th>\n",
       "      <td>2019-12-21 21:48:00 +0200</td>\n",
       "      <td>102.0</td>\n",
       "      <td>75.0</td>\n",
       "    </tr>\n",
       "    <tr>\n",
       "      <th>9</th>\n",
       "      <td>2019-12-21 21:53:00 +0200</td>\n",
       "      <td>151.0</td>\n",
       "      <td>76.0</td>\n",
       "    </tr>\n",
       "    <tr>\n",
       "      <th>10</th>\n",
       "      <td>2019-12-21 21:55:00 +0200</td>\n",
       "      <td>151.0</td>\n",
       "      <td>76.0</td>\n",
       "    </tr>\n",
       "    <tr>\n",
       "      <th>11</th>\n",
       "      <td>2019-12-22 07:21:00 +0200</td>\n",
       "      <td>129.0</td>\n",
       "      <td>74.0</td>\n",
       "    </tr>\n",
       "    <tr>\n",
       "      <th>12</th>\n",
       "      <td>2019-12-25 15:42:00 +0200</td>\n",
       "      <td>152.0</td>\n",
       "      <td>93.0</td>\n",
       "    </tr>\n",
       "    <tr>\n",
       "      <th>13</th>\n",
       "      <td>2019-12-25 20:19:00 +0200</td>\n",
       "      <td>146.0</td>\n",
       "      <td>81.0</td>\n",
       "    </tr>\n",
       "    <tr>\n",
       "      <th>14</th>\n",
       "      <td>2019-12-26 08:25:00 +0200</td>\n",
       "      <td>153.0</td>\n",
       "      <td>75.0</td>\n",
       "    </tr>\n",
       "  </tbody>\n",
       "</table>"
      ],
      "text/plain": [
       "<IPython.core.display.HTML object>"
      ]
     },
     "metadata": {},
     "output_type": "display_data"
    }
   ],
   "source": [
    "bloodPressure = pd.merge(data[\"HKQuantityTypeIdentifierBloodPressureSystolic\"],data[\"HKQuantityTypeIdentifierBloodPressureDiastolic\"],on=\"date\")\n",
    "bloodPressure.drop([\"type_x\", \"type_y\"],axis=1, inplace=True)\n",
    "bloodPressure.rename(columns={'value_x': 'Systolic', 'value_y': 'Diastolic'}, inplace=True)\n",
    "display(HTML(bloodPressure.to_html()))\n"
   ]
  },
  {
   "cell_type": "code",
   "execution_count": null,
   "metadata": {},
   "outputs": [],
   "source": [
    " bloodPressure.columns"
   ]
  },
  {
   "cell_type": "code",
   "execution_count": null,
   "metadata": {},
   "outputs": [],
   "source": [
    "df.columns"
   ]
  },
  {
   "cell_type": "code",
   "execution_count": 249,
   "metadata": {},
   "outputs": [
    {
     "name": "stdout",
     "output_type": "stream",
     "text": [
      "<class 'pandas.core.frame.DataFrame'>\n",
      "Int64Index: 15 entries, 0 to 14\n",
      "Data columns (total 3 columns):\n",
      "date         15 non-null object\n",
      "Systolic     15 non-null float64\n",
      "Diastolic    15 non-null float64\n",
      "dtypes: float64(2), object(1)\n",
      "memory usage: 480.0+ bytes\n"
     ]
    }
   ],
   "source": [
    "bloodPressure.info()"
   ]
  },
  {
   "cell_type": "code",
   "execution_count": null,
   "metadata": {},
   "outputs": [],
   "source": [
    "for k, v in data.items():\n",
    "    display(HTML(v.to_html()))\n"
   ]
  },
  {
   "cell_type": "code",
   "execution_count": 250,
   "metadata": {},
   "outputs": [
    {
     "data": {
      "text/plain": [
       "<matplotlib.axes._subplots.AxesSubplot at 0x7fb480a24278>"
      ]
     },
     "execution_count": 250,
     "metadata": {},
     "output_type": "execute_result"
    },
    {
     "data": {
      "image/png": "[encoded data removed]",
      "text/plain": [
       "<Figure size 432x288 with 1 Axes>"
      ]
     },
     "metadata": {
      "needs_background": "light"
     },
     "output_type": "display_data"
    }
   ],
   "source": [
    "bloodPressure.plot()"
   ]
  },
  {
   "cell_type": "code",
   "execution_count": null,
   "metadata": {},
   "outputs": [],
   "source": [
    "import numpy as np \n",
    "from matplotlib import pyplot as plt \n",
    "\n",
    " \n",
    "plt.title(\"Matplotlib demo\") \n",
    "plt.xlabel(\"x axis caption\") \n",
    "plt.ylabel(\"y axis caption\") \n",
    "plt.plot(x=BloodPressureSystolic['date'],y=BloodPressureSystolic['value']) \n",
    "plt.show()"
   ]
  },
  {
   "cell_type": "code",
   "execution_count": null,
   "metadata": {},
   "outputs": [],
   "source": [
    "from plotly.offline import plot\n",
    "\n",
    "import plotly.graph_objects as go\n",
    "fig = go.Figure(\n",
    "    data=[go.Scatter(x=BloodPressureSystolic['date'],y=BloodPressureSystolic['value'])],\n",
    "    layout_title_text=\"BloodPressureSystolic\"\n",
    ")\n",
    "fig.show()"
   ]
  },
  {
   "cell_type": "code",
   "execution_count": null,
   "metadata": {},
   "outputs": [],
   "source": [
    "d = df.loc[df['type'] == \"HKQuantityTypeIdentifierBloodGlucose\"]\n",
    "BloodGlucose = d.sort_values(by='date', axis=0)           "
   ]
  },
  {
   "cell_type": "code",
   "execution_count": null,
   "metadata": {},
   "outputs": [],
   "source": [
    "from plotly.offline import plot\n",
    "\n",
    "import plotly.graph_objects as go\n",
    "fig = go.Figure(\n",
    "    data=[go.Scatter(x=BloodGlucose['date'],y=BloodGlucose['value'])],\n",
    "    layout_title_text=\"BloodGlucose\"\n",
    ")\n",
    "fig.show()"
   ]
  }
 ],
 "metadata": {
  "kernelspec": {
   "display_name": "Python 3",
   "language": "python",
   "name": "python3"
  },
  "language_info": {
   "codemirror_mode": {
    "name": "ipython",
    "version": 3
   },
   "file_extension": ".py",
   "mimetype": "text/x-python",
   "name": "python",
   "nbconvert_exporter": "python",
   "pygments_lexer": "ipython3",
   "version": "3.5.2"
  }
 },
 "nbformat": 4,
 "nbformat_minor": 2
}
